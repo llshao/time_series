{
 "cells": [
  {
   "cell_type": "code",
   "execution_count": 2,
   "metadata": {},
   "outputs": [
    {
     "name": "stdout",
     "output_type": "stream",
     "text": [
      " * Serving Flask app \"__main__\" (lazy loading)\n",
      " * Environment: production\n",
      "   WARNING: This is a development server. Do not use it in a production deployment.\n",
      "   Use a production WSGI server instead.\n",
      " * Debug mode: off\n"
     ]
    },
    {
     "name": "stderr",
     "output_type": "stream",
     "text": [
      " * Running on http://127.0.0.1:8050/ (Press CTRL+C to quit)\n",
      "127.0.0.1 - - [24/Mar/2020 13:46:08] \"\u001b[37mGET / HTTP/1.1\u001b[0m\" 200 -\n",
      "127.0.0.1 - - [24/Mar/2020 13:46:09] \"\u001b[37mGET /_dash-dependencies HTTP/1.1\u001b[0m\" 200 -\n",
      "127.0.0.1 - - [24/Mar/2020 13:46:09] \"\u001b[37mGET /_dash-layout HTTP/1.1\u001b[0m\" 200 -\n",
      "127.0.0.1 - - [24/Mar/2020 13:46:09] \"\u001b[37mPOST /_dash-update-component HTTP/1.1\u001b[0m\" 200 -\n"
     ]
    },
    {
     "name": "stdout",
     "output_type": "stream",
     "text": [
      "2018-03-15 00:00:00\n"
     ]
    },
    {
     "name": "stderr",
     "output_type": "stream",
     "text": [
      "127.0.0.1 - - [24/Mar/2020 13:46:12] \"\u001b[37mPOST /_dash-update-component HTTP/1.1\u001b[0m\" 200 -\n"
     ]
    },
    {
     "name": "stdout",
     "output_type": "stream",
     "text": [
      "2018-03-15 00:00:00\n",
      "2018-03-15 00:00:00\n"
     ]
    },
    {
     "name": "stderr",
     "output_type": "stream",
     "text": [
      "127.0.0.1 - - [24/Mar/2020 13:46:16] \"\u001b[37mPOST /_dash-update-component HTTP/1.1\u001b[0m\" 200 -\n",
      "127.0.0.1 - - [24/Mar/2020 13:46:18] \"\u001b[37mPOST /_dash-update-component HTTP/1.1\u001b[0m\" 200 -\n"
     ]
    },
    {
     "name": "stdout",
     "output_type": "stream",
     "text": [
      "2018-03-15 00:00:00\n"
     ]
    },
    {
     "name": "stderr",
     "output_type": "stream",
     "text": [
      "127.0.0.1 - - [24/Mar/2020 13:46:26] \"\u001b[37mPOST /_dash-update-component HTTP/1.1\u001b[0m\" 200 -\n"
     ]
    },
    {
     "name": "stdout",
     "output_type": "stream",
     "text": [
      "2018-03-15 00:00:00\n"
     ]
    },
    {
     "name": "stderr",
     "output_type": "stream",
     "text": [
      "127.0.0.1 - - [24/Mar/2020 13:46:34] \"\u001b[37mPOST /_dash-update-component HTTP/1.1\u001b[0m\" 200 -\n"
     ]
    },
    {
     "name": "stdout",
     "output_type": "stream",
     "text": [
      "2018-03-15 00:00:00\n"
     ]
    },
    {
     "name": "stderr",
     "output_type": "stream",
     "text": [
      "127.0.0.1 - - [24/Mar/2020 13:46:38] \"\u001b[37mPOST /_dash-update-component HTTP/1.1\u001b[0m\" 200 -\n"
     ]
    },
    {
     "name": "stdout",
     "output_type": "stream",
     "text": [
      "2018-03-15 00:00:00\n"
     ]
    },
    {
     "name": "stderr",
     "output_type": "stream",
     "text": [
      "127.0.0.1 - - [24/Mar/2020 13:46:43] \"\u001b[37mPOST /_dash-update-component HTTP/1.1\u001b[0m\" 200 -\n"
     ]
    },
    {
     "name": "stdout",
     "output_type": "stream",
     "text": [
      "2018-03-15 00:00:00\n"
     ]
    },
    {
     "name": "stderr",
     "output_type": "stream",
     "text": [
      "127.0.0.1 - - [24/Mar/2020 13:47:02] \"\u001b[37mPOST /_dash-update-component HTTP/1.1\u001b[0m\" 200 -\n"
     ]
    },
    {
     "name": "stdout",
     "output_type": "stream",
     "text": [
      "2018-03-15 00:00:00\n"
     ]
    },
    {
     "name": "stderr",
     "output_type": "stream",
     "text": [
      "127.0.0.1 - - [24/Mar/2020 13:47:09] \"\u001b[37mPOST /_dash-update-component HTTP/1.1\u001b[0m\" 200 -\n"
     ]
    },
    {
     "name": "stdout",
     "output_type": "stream",
     "text": [
      "2018-03-15 00:00:00\n"
     ]
    },
    {
     "name": "stderr",
     "output_type": "stream",
     "text": [
      "127.0.0.1 - - [24/Mar/2020 13:47:12] \"\u001b[37mPOST /_dash-update-component HTTP/1.1\u001b[0m\" 200 -\n"
     ]
    },
    {
     "name": "stdout",
     "output_type": "stream",
     "text": [
      "2018-03-15 00:00:00\n"
     ]
    },
    {
     "name": "stderr",
     "output_type": "stream",
     "text": [
      "127.0.0.1 - - [24/Mar/2020 13:47:15] \"\u001b[37mPOST /_dash-update-component HTTP/1.1\u001b[0m\" 200 -\n"
     ]
    },
    {
     "name": "stdout",
     "output_type": "stream",
     "text": [
      "2018-03-15 00:00:00\n"
     ]
    },
    {
     "name": "stderr",
     "output_type": "stream",
     "text": [
      "127.0.0.1 - - [24/Mar/2020 13:47:26] \"\u001b[37mPOST /_dash-update-component HTTP/1.1\u001b[0m\" 200 -\n"
     ]
    },
    {
     "name": "stdout",
     "output_type": "stream",
     "text": [
      "2018-03-15 00:00:00\n"
     ]
    },
    {
     "name": "stderr",
     "output_type": "stream",
     "text": [
      "127.0.0.1 - - [24/Mar/2020 13:47:32] \"\u001b[37mPOST /_dash-update-component HTTP/1.1\u001b[0m\" 200 -\n"
     ]
    },
    {
     "name": "stdout",
     "output_type": "stream",
     "text": [
      "2018-03-15 00:00:00\n",
      "2018-03-15 00:00:00\n"
     ]
    },
    {
     "name": "stderr",
     "output_type": "stream",
     "text": [
      "127.0.0.1 - - [24/Mar/2020 13:47:38] \"\u001b[37mPOST /_dash-update-component HTTP/1.1\u001b[0m\" 200 -\n",
      "127.0.0.1 - - [24/Mar/2020 13:47:40] \"\u001b[37mPOST /_dash-update-component HTTP/1.1\u001b[0m\" 200 -\n"
     ]
    },
    {
     "name": "stdout",
     "output_type": "stream",
     "text": [
      "2018-03-15 00:00:00\n",
      "2018-03-15 00:00:00\n"
     ]
    },
    {
     "name": "stderr",
     "output_type": "stream",
     "text": [
      "127.0.0.1 - - [24/Mar/2020 13:47:44] \"\u001b[37mPOST /_dash-update-component HTTP/1.1\u001b[0m\" 200 -\n",
      "127.0.0.1 - - [24/Mar/2020 13:47:46] \"\u001b[37mPOST /_dash-update-component HTTP/1.1\u001b[0m\" 200 -\n"
     ]
    },
    {
     "name": "stdout",
     "output_type": "stream",
     "text": [
      "2018-03-15 00:00:00\n"
     ]
    },
    {
     "name": "stderr",
     "output_type": "stream",
     "text": [
      "127.0.0.1 - - [24/Mar/2020 13:47:59] \"\u001b[37mPOST /_dash-update-component HTTP/1.1\u001b[0m\" 200 -\n"
     ]
    },
    {
     "name": "stdout",
     "output_type": "stream",
     "text": [
      "2018-03-15 00:00:00\n"
     ]
    },
    {
     "name": "stderr",
     "output_type": "stream",
     "text": [
      "127.0.0.1 - - [24/Mar/2020 13:48:03] \"\u001b[37mPOST /_dash-update-component HTTP/1.1\u001b[0m\" 200 -\n"
     ]
    },
    {
     "name": "stdout",
     "output_type": "stream",
     "text": [
      "2018-03-15 00:00:00\n"
     ]
    },
    {
     "name": "stderr",
     "output_type": "stream",
     "text": [
      "127.0.0.1 - - [24/Mar/2020 13:48:28] \"\u001b[37mPOST /_dash-update-component HTTP/1.1\u001b[0m\" 200 -\n"
     ]
    },
    {
     "name": "stdout",
     "output_type": "stream",
     "text": [
      "2018-03-15 00:00:00\n"
     ]
    },
    {
     "name": "stderr",
     "output_type": "stream",
     "text": [
      "127.0.0.1 - - [24/Mar/2020 13:48:33] \"\u001b[37mPOST /_dash-update-component HTTP/1.1\u001b[0m\" 200 -\n"
     ]
    }
   ],
   "source": [
    "# -*- coding: utf-8 -*-\n",
    "import dash\n",
    "import dash_core_components as dcc\n",
    "import dash_html_components as html\n",
    "from dash.dependencies import Input, Output\n",
    "import numpy as np\n",
    "import pandas as pd\n",
    "import matplotlib.pyplot as plt\n",
    "%matplotlib inline\n",
    "import plotly.graph_objects as go\n",
    "import os\n",
    "import re\n",
    "import pycountry_convert as pc\n",
    "from datetime import datetime as dt\n",
    "#brew update\n",
    "#brew install enchant\n",
    "import enchant\n",
    "\n",
    "# import customized functions for dashboard\n",
    "import dash_func\n",
    "\n",
    "##############################################################\n",
    "##############################################################\n",
    "#######################Dash Board#############################\n",
    "##############################################################\n",
    "##############################################################\n",
    "\n",
    "\n",
    "# read data and parse the date column\n",
    "pd_df = pd.read_csv('topline_metrics.csv',index_col=0, parse_dates=True)\n",
    "# drop off duplications\n",
    "pd_no_dup = pd_df.drop_duplicates()\n",
    "\n",
    "\n",
    "\n",
    "# Initialization for dash\n",
    "external_stylesheets = ['https://codepen.io/chriddyp/pen/bWLwgP.css']\n",
    "\n",
    "app = dash.Dash(__name__, external_stylesheets=external_stylesheets)\n",
    "\n",
    "continents = {\n",
    "    'NA': 'North America',\n",
    "    'SA': 'South America', \n",
    "    'AS': 'Asia',\n",
    "    'OC': 'Australia',\n",
    "    'AF': 'Africa',\n",
    "    'EU': 'Europe',\n",
    "    'AT': 'Antarctica'\n",
    " }\n",
    "# setup colors for later usage\n",
    "colors = {\n",
    "    'background': '#FFFFFF',\n",
    "    'text': '#7FDBFF'\n",
    "}\n",
    "\n",
    "#########################################\n",
    "######Main components of Dash#############\n",
    "app.layout = html.Div(\n",
    "    style = {'backgroundColor': colors['background']}, \n",
    "    children = [\n",
    "        # title\n",
    "    html.H1(\n",
    "        children = 'Dashboard for Topline Metrics',\n",
    "        style = {\n",
    "            'textAlign': 'center',\n",
    "            'color': colors['text']\n",
    "        }\n",
    "    ),\n",
    "    \n",
    "###########Define Filters##############\n",
    "    html.H2(\n",
    "        children = 'Filters',\n",
    "        style = {\n",
    "            'textAlign': 'left',\n",
    "            'color': colors['text']\n",
    "        }\n",
    "    ),\n",
    "    \n",
    "    html.Div([\n",
    "    html.Label('Platforms'),\n",
    "    dcc.Checklist(\n",
    "        id = 'platform',\n",
    "        options = dash_func.get_attrs(pd_no_dup,'Platform'),\n",
    "        value = [dash_func.get_attrs(pd_no_dup,'Platform')[0]['label']],\n",
    "        style = {'width': '48%'}),\n",
    "        \n",
    "    html.Label('Metrics'),\n",
    "    dcc.RadioItems(\n",
    "        id = 'metric',\n",
    "        options = dash_func.get_attrs(pd_no_dup,'Metrics'),\n",
    "        value = dash_func.get_attrs(pd_no_dup,'Metrics')[0]['label'],\n",
    "        labelStyle = {'display': 'inline-block'},),\n",
    "    ],style = {'width': '48%', 'display': 'inline-block'}),\n",
    "    \n",
    "    \n",
    "    html.Div([\n",
    "    html.Label('Continents: NOT WORKING YET'),\n",
    "    dcc.Checklist(\n",
    "        id = 'continents',\n",
    "        options = dash_func.get_attrs(pd_no_dup,'Continents'),\n",
    "        value = [c['label'] for c in dash_func.get_attrs(pd_no_dup,'Continents')],\n",
    "        style = {'width': '48%'}),\n",
    "        \n",
    "    html.Label('Countries'),\n",
    "    dcc.Dropdown(\n",
    "        id = 'country',\n",
    "        options = dash_func.get_attrs(pd_no_dup,'Country'),\n",
    "        value = [dash_func.get_attrs(pd_no_dup,'Country')[0]['label'],dash_func.get_attrs(pd_no_dup,'Country')[1]['label'],dash_func.get_attrs(pd_no_dup,'Country')[100]['label'],],\n",
    "        multi = True,)\n",
    "    ], style = {'width': '48%', 'float': 'right', 'display': 'inline-block'}),\n",
    "        \n",
    "############Define Visulizations#################\n",
    "    html.H2(\n",
    "        children='Visulizations',\n",
    "        style={\n",
    "            'textAlign': 'left',\n",
    "            'color': colors['text']\n",
    "        }\n",
    "    ),\n",
    "    \n",
    "    \n",
    "    html.Div([\n",
    "            html.Div([\n",
    "            html.Label('Date Range:'),\n",
    "            dcc.DatePickerRange(\n",
    "                id='my-date-picker-range',\n",
    "                #'Date Range: 2018-03-15 00:00:00 to 2020-03-09 00:00:00, Total 724 Days'\n",
    "                min_date_allowed=min(pd_no_dup.index.unique()),\n",
    "                max_date_allowed=max(pd_no_dup.index.unique()),\n",
    "                initial_visible_month=min(pd_no_dup.index.unique()),\n",
    "                #initial_visible_month=min(pd_no_dup.index.unique()),\n",
    "                start_date = min(pd_no_dup.index.unique()),\n",
    "                end_date = max(pd_no_dup.index.unique())\n",
    "            ),\n",
    "            html.Div(id='output-container-date-picker-range'),\n",
    "        ],style={'width': '48%', 'display': 'inline-block'}),\n",
    "        \n",
    "        html.Div([\n",
    "            html.Label('Y-scale'),\n",
    "            dcc.RadioItems(\n",
    "                id='yaxis-type',\n",
    "                options=[{'label': i, 'value': i} for i in ['Linear', 'Log']],\n",
    "                value='Linear',\n",
    "                labelStyle={'display': 'inline-block'}\n",
    "            ),  \n",
    "            ],\n",
    "        style={'width': '48%', 'display': 'inline-block'}),\n",
    "    html.Label('Scatter-Line Plot'),\n",
    "    dcc.Graph(\n",
    "        id='scatter-line'\n",
    "        )\n",
    "    ]),\n",
    "###############Define Tables####################    \n",
    "    html.H2(\n",
    "        children='Tables',\n",
    "        style={\n",
    "            'textAlign': 'left',\n",
    "            'color': colors['text']\n",
    "        }\n",
    "    ),\n",
    "    html.H4(children='Selected Rows'),\n",
    "    html.Div(id = 'table'),\n",
    "      \n",
    "    \n",
    "])\n",
    "\n",
    "\n",
    "################Define Callbacks################\n",
    "@app.callback(\n",
    "    dash.dependencies.Output('output-container-date-picker-range', 'children'),\n",
    "    [dash.dependencies.Input('my-date-picker-range', 'start_date'),\n",
    "     dash.dependencies.Input('my-date-picker-range', 'end_date')])\n",
    "def update_output(start_date, end_date):\n",
    "    string_prefix = 'You have selected: '\n",
    "    if start_date is not None:\n",
    "        start_date = dt.strptime(start_date.split('T')[0], '%Y-%m-%d')\n",
    "        start_date_string = start_date.strftime('%B %d, %Y')\n",
    "        string_prefix = string_prefix + 'Start Date: ' + start_date_string + ' | '\n",
    "    if end_date is not None:\n",
    "        end_date = dt.strptime(end_date.split('T')[0], '%Y-%m-%d')\n",
    "        end_date_string = end_date.strftime('%B %d, %Y')\n",
    "        string_prefix = string_prefix + 'End Date: ' + end_date_string\n",
    "    if len(string_prefix) == len('You have selected: '):\n",
    "        return 'Select a date to see it displayed here'\n",
    "    else:\n",
    "        return string_prefix\n",
    "\n",
    "\n",
    "@app.callback(\n",
    "    [Output('scatter-line', 'figure'),\n",
    "     Output('table', 'children'),\n",
    "    ],\n",
    "    [Input('platform', 'value'),\n",
    "     Input('country', 'value'),\n",
    "     Input('metric','value'),\n",
    "     Input('yaxis-type','value'),\n",
    "     Input('my-date-picker-range', 'start_date'),\n",
    "     Input('my-date-picker-range', 'end_date')])\n",
    "def set_display_children(platform, country, metric, yaxis_type, start_date, end_date):\n",
    "    '''\n",
    "    Generate figure based on filters\n",
    "    '''\n",
    "    #global pd_no_dup \n",
    "    filters = [\n",
    "        {'Platform': platform},{'Country': country}\n",
    "    ]\n",
    "    \n",
    "    bool_filters, attr_filters = dash_func.get_filtered_data(pd_no_dup, filters)\n",
    "    table = dash_func.generate_table(pd_no_dup, bool_filters, start_date, end_date)\n",
    "    data = dash_func.generate_data_for_figure(pd_no_dup, metric, bool_filters, attr_filters)\n",
    "    fig = {'data': data,\n",
    "         'layout': dict(\n",
    "                xaxis={'title': 'Time','range':[start_date,end_date]},\n",
    "                yaxis={'title': metric,'type':'linear' if yaxis_type == 'Linear' else 'log'},\n",
    "                margin={'l': 40, 'b': 40, 't': 10, 'r': 10},\n",
    "                #legend={'x': 0, 'y': 0.3},\n",
    "                hovermode='closest',\n",
    "                #xaxis_range=['2019-07-01','2019-12-31']\n",
    "                 )\n",
    "          }\n",
    "    return fig, table\n",
    "\n",
    "if __name__ == '__main__':\n",
    "    app.run_server(debug=False)"
   ]
  }
 ],
 "metadata": {
  "kernelspec": {
   "display_name": "Python 3",
   "language": "python",
   "name": "python3"
  },
  "language_info": {
   "codemirror_mode": {
    "name": "ipython",
    "version": 3
   },
   "file_extension": ".py",
   "mimetype": "text/x-python",
   "name": "python",
   "nbconvert_exporter": "python",
   "pygments_lexer": "ipython3",
   "version": "3.7.4"
  }
 },
 "nbformat": 4,
 "nbformat_minor": 4
}
